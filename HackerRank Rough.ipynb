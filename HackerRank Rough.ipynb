{
 "cells": [
  {
   "cell_type": "code",
   "execution_count": 3,
   "id": "53e69a3c",
   "metadata": {
    "scrolled": false
   },
   "outputs": [
    {
     "name": "stdout",
     "output_type": "stream",
     "text": [
      "banana\n",
      "Stuart 12\n"
     ]
    }
   ],
   "source": [
    "def minion_game(s):\n",
    "    kev_set = set()\n",
    "    stu_set = set()\n",
    "    sub_str = []\n",
    "    vow = ['A', 'E', 'I', 'O', 'U']\n",
    "    for i in range(len(s)):\n",
    "        for j in range(i+1, len(s)+1):\n",
    "            sub_str.append(s[i:j])\n",
    "            if s[i:j].upper()[0] in vow:\n",
    "                kev_set.add(s[i:j])\n",
    "            else:\n",
    "                stu_set.add(s[i:j])\n",
    "    kev_sorted = sorted(kev_set)\n",
    "    stu_sorted = sorted(stu_set)\n",
    "    sum_kev = 0\n",
    "    sum_stu = 0\n",
    "    for i in range(len(kev_sorted)):\n",
    "        count_k = 0\n",
    "        for x in range(len(sub_str)):\n",
    "            if kev_sorted[i] == sub_str[x]:\n",
    "                count_k = count_k + 1\n",
    "        sum_kev = sum_kev + count_k\n",
    "    for i in range(len(stu_sorted)):\n",
    "        count_s = 0\n",
    "        for x in range(len(sub_str)):\n",
    "            if stu_sorted[i] == sub_str[x]:\n",
    "                count_s = count_s + 1\n",
    "        sum_stu = sum_stu + count_s\n",
    "    \n",
    "    if sum_stu > sum_kev:\n",
    "        print('Stuart', sum_stu)\n",
    "    elif sum_kev > sum_stu:\n",
    "        print('Kevin', sum_kev)\n",
    "    else:\n",
    "        print('Draw')\n",
    "            \n",
    "            \n",
    "            \n",
    "s = input()\n",
    "minion_game(s)\n"
   ]
  },
  {
   "cell_type": "code",
   "execution_count": 23,
   "id": "d1f1c4f6",
   "metadata": {},
   "outputs": [
    {
     "name": "stdout",
     "output_type": "stream",
     "text": [
      "banana\n",
      "['a', 'an', 'ana', 'anan', 'anana', 'a', 'an', 'ana', 'a']\n",
      "['b', 'ba', 'ban', 'bana', 'banan', 'banana', 'n', 'na', 'nan', 'nana', 'n', 'na']\n"
     ]
    },
    {
     "ename": "TypeError",
     "evalue": "'set' object is not subscriptable",
     "output_type": "error",
     "traceback": [
      "\u001b[1;31m---------------------------------------------------------------------------\u001b[0m",
      "\u001b[1;31mTypeError\u001b[0m                                 Traceback (most recent call last)",
      "\u001b[1;32m~\\AppData\\Local\\Temp/ipykernel_19952/1461273676.py\u001b[0m in \u001b[0;36m<module>\u001b[1;34m\u001b[0m\n\u001b[0;32m     38\u001b[0m \u001b[1;33m\u001b[0m\u001b[0m\n\u001b[0;32m     39\u001b[0m \u001b[0ms\u001b[0m \u001b[1;33m=\u001b[0m \u001b[0minput\u001b[0m\u001b[1;33m(\u001b[0m\u001b[1;33m)\u001b[0m\u001b[1;33m\u001b[0m\u001b[1;33m\u001b[0m\u001b[0m\n\u001b[1;32m---> 40\u001b[1;33m \u001b[0mMinionGame\u001b[0m\u001b[1;33m(\u001b[0m\u001b[0ms\u001b[0m\u001b[1;33m)\u001b[0m\u001b[1;33m\u001b[0m\u001b[1;33m\u001b[0m\u001b[0m\n\u001b[0m",
      "\u001b[1;32m~\\AppData\\Local\\Temp/ipykernel_19952/1461273676.py\u001b[0m in \u001b[0;36mMinionGame\u001b[1;34m(s)\u001b[0m\n\u001b[0;32m     23\u001b[0m         \u001b[0mcount_k\u001b[0m \u001b[1;33m=\u001b[0m \u001b[1;36m0\u001b[0m\u001b[1;33m\u001b[0m\u001b[1;33m\u001b[0m\u001b[0m\n\u001b[0;32m     24\u001b[0m         \u001b[1;32mfor\u001b[0m \u001b[0mx\u001b[0m \u001b[1;32min\u001b[0m \u001b[0mrange\u001b[0m\u001b[1;33m(\u001b[0m\u001b[0mlen\u001b[0m\u001b[1;33m(\u001b[0m\u001b[0mkev\u001b[0m\u001b[1;33m)\u001b[0m\u001b[1;33m)\u001b[0m\u001b[1;33m:\u001b[0m\u001b[1;33m\u001b[0m\u001b[1;33m\u001b[0m\u001b[0m\n\u001b[1;32m---> 25\u001b[1;33m             \u001b[1;32mif\u001b[0m \u001b[0mkev_set\u001b[0m\u001b[1;33m[\u001b[0m\u001b[0mi\u001b[0m\u001b[1;33m]\u001b[0m \u001b[1;33m==\u001b[0m \u001b[0mkev\u001b[0m\u001b[1;33m[\u001b[0m\u001b[0mx\u001b[0m\u001b[1;33m]\u001b[0m\u001b[1;33m:\u001b[0m\u001b[1;33m\u001b[0m\u001b[1;33m\u001b[0m\u001b[0m\n\u001b[0m\u001b[0;32m     26\u001b[0m                 \u001b[0mcount_k\u001b[0m \u001b[1;33m=\u001b[0m \u001b[0mcount_k\u001b[0m \u001b[1;33m+\u001b[0m \u001b[1;36m1\u001b[0m\u001b[1;33m\u001b[0m\u001b[1;33m\u001b[0m\u001b[0m\n\u001b[0;32m     27\u001b[0m         \u001b[0msum_kev\u001b[0m \u001b[1;33m=\u001b[0m \u001b[0msum_kev\u001b[0m \u001b[1;33m+\u001b[0m \u001b[0mcount_k\u001b[0m\u001b[1;33m\u001b[0m\u001b[1;33m\u001b[0m\u001b[0m\n",
      "\u001b[1;31mTypeError\u001b[0m: 'set' object is not subscriptable"
     ]
    }
   ],
   "source": [
    "def MinionGame(s):\n",
    "    kev = []\n",
    "    stu = []\n",
    "    vow = ['A', 'E', 'I', 'O', 'U']\n",
    "    \n",
    "    for i in range(len(s)):\n",
    "        for j in range(i+1, len(s)+1):\n",
    "            if s[i:j].upper()[0] in vow:\n",
    "                kev.append(s[i:j])\n",
    "            else:\n",
    "                stu.append(s[i:j])\n",
    "            \n",
    "    print(kev)\n",
    "    print(stu)\n",
    "    \n",
    "    sum_kev = 0\n",
    "    sum_stu = 0\n",
    "    \n",
    "    for i in range(len(kev)):\n",
    "        count_k = 0\n",
    "        for x in range(len(kev)):\n",
    "            if kev[i] == kev[x]:\n",
    "                count_k = count_k + 1\n",
    "        sum_kev = sum_kev + count_k\n",
    "        \n",
    "    for i in range(len(stu)):\n",
    "        count_s = 0\n",
    "        for x in range(len(stu)):\n",
    "            if stu[i] == stu[x]:\n",
    "                count_s = count_s + 1\n",
    "        sum_stu = sum_stu + count_s\n",
    "    \n",
    "    print(sum_kev, sum_stu)\n",
    "            \n",
    "            \n",
    "s = input()\n",
    "MinionGame(s)"
   ]
  },
  {
   "cell_type": "code",
   "execution_count": 5,
   "id": "fca50359",
   "metadata": {},
   "outputs": [
    {
     "name": "stdout",
     "output_type": "stream",
     "text": [
      "SOSOOSOSOSOSOSSOSOSOSOSOSOS\n",
      "['SOS', 'OOS', 'OSO', 'SOS', 'OSS', 'OSO', 'SOS', 'OSO', 'SOS']\n"
     ]
    },
    {
     "data": {
      "text/plain": [
       "12"
      ]
     },
     "execution_count": 5,
     "metadata": {},
     "output_type": "execute_result"
    }
   ],
   "source": [
    "def marsExploration(s):\n",
    "    indices = [x for x in range(len(s)) if x%3 == 0]\n",
    "    parts = [s[i:j] for i,j in zip(indices, indices[1:]+[None])]\n",
    "    count = 0\n",
    "    \n",
    "    for word in parts:\n",
    "        if word != 'SOS':\n",
    "            if word[0] != 'S':\n",
    "                count += 1\n",
    "            if word[1] != 'O':\n",
    "                count += 1\n",
    "            if word[2] != 'S':\n",
    "                count += 1\n",
    "    return count\n",
    "\n",
    "s = input()\n",
    "marsExploration(s)"
   ]
  },
  {
   "cell_type": "code",
   "execution_count": 24,
   "id": "83e52403",
   "metadata": {},
   "outputs": [
    {
     "name": "stdout",
     "output_type": "stream",
     "text": [
      "12:01:00AM\n"
     ]
    },
    {
     "data": {
      "text/plain": [
       "'00:01:00'"
      ]
     },
     "execution_count": 24,
     "metadata": {},
     "output_type": "execute_result"
    }
   ],
   "source": [
    "def timeConversion(s):\n",
    "    if 'PM' in s:\n",
    "        time_string = s.replace(\"PM\", \"\")\n",
    "        t_list = time_string.split(':')\n",
    "        time = [int(x) for x in t_list]\n",
    "        if time[0] == 12:\n",
    "            time = [str(x).zfill(2) for x in time]\n",
    "            return (':'.join(time))\n",
    "        else:\n",
    "            time[0] += 12\n",
    "            time = [str(x).zfill(2) for x in time]\n",
    "            return (':'.join(time))\n",
    "        \n",
    "        \n",
    "    elif 'AM' in s:\n",
    "        time_string = s.replace(\"AM\", \"\")\n",
    "        t_list = time_string.split(':')\n",
    "        time = [int(x) for x in t_list]\n",
    "        if time[0] == 12:\n",
    "            time = [str(x).zfill(2) for x in time]\n",
    "            fnl = (':'.join(time))\n",
    "            return fnl.replace(time[0],'00')\n",
    "        else:\n",
    "            time = [str(x).zfill(2) for x in time]\n",
    "            return (':'.join(time))\n",
    "        \n",
    "s = input()\n",
    "timeConversion(s)"
   ]
  },
  {
   "cell_type": "code",
   "execution_count": 12,
   "id": "f3e7a466",
   "metadata": {},
   "outputs": [
    {
     "data": {
      "text/plain": [
       "15"
      ]
     },
     "execution_count": 12,
     "metadata": {},
     "output_type": "execute_result"
    }
   ],
   "source": [
    "def diagonalDifference(arr):\n",
    "    # Write your code here\n",
    "    n = len(arr)\n",
    "    arr_copy = arr[:]\n",
    "    arr_copy.reverse()\n",
    "    sum_lr = 0\n",
    "    sum_rl = 0\n",
    "    for i in range(n):\n",
    "        for j in range(n):\n",
    "            if i == j:\n",
    "                sum_lr = sum_lr + arr[i][j]\n",
    "                sum_rl = sum_rl + arr_copy[i][j]\n",
    "    \n",
    "    return abs(sum_lr - sum_rl)\n",
    "    \n",
    "arr = [[11, 2, 4],\n",
    "      [4, 5, 6],\n",
    "      [10, 8, -12]]\n",
    "diagonalDifference(arr)"
   ]
  },
  {
   "cell_type": "code",
   "execution_count": null,
   "id": "20b1518d",
   "metadata": {},
   "outputs": [],
   "source": [
    "def plusMinus(arr):\n",
    "    # Write your code here\n",
    "    count_pos = 0\n",
    "    count_neg = 0\n",
    "    count_zeros = 0\n",
    "    l = len(arr)\n",
    "    for x in arr:\n",
    "        if x>0:\n",
    "            count_pos += 1\n",
    "        elif x<0:\n",
    "            count_neg += 1\n",
    "        elif x==0:\n",
    "            count_zeros += 1\n",
    "    \n",
    "    a = count_pos/l\n",
    "    b = count_neg/l\n",
    "    c = count_zeros/l\n",
    "    print('{:.6f}\\n{:.6f}\\n{:.6f}'.format(a,b,c))"
   ]
  }
 ],
 "metadata": {
  "kernelspec": {
   "display_name": "Python 3 (ipykernel)",
   "language": "python",
   "name": "python3"
  },
  "language_info": {
   "codemirror_mode": {
    "name": "ipython",
    "version": 3
   },
   "file_extension": ".py",
   "mimetype": "text/x-python",
   "name": "python",
   "nbconvert_exporter": "python",
   "pygments_lexer": "ipython3",
   "version": "3.9.7"
  }
 },
 "nbformat": 4,
 "nbformat_minor": 5
}
