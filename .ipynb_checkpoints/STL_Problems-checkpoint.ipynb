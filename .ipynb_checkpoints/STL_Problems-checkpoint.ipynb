{
 "cells": [
  {
   "cell_type": "code",
   "execution_count": 1,
   "id": "5e396f86",
   "metadata": {},
   "outputs": [
    {
     "name": "stdout",
     "output_type": "stream",
     "text": [
      "5\n",
      "900 1000 1100 1030 1600\n",
      "1900 1300 1130 1230 1800\n",
      "4\n"
     ]
    }
   ],
   "source": [
    "n = int(input())\n",
    "a = [int(i) for i in input().strip().split()]\n",
    "d = [int(i) for i in input().strip().split()]\n",
    "count = n\n",
    "\n",
    "arrdep = dict(zip(a, d))\n",
    "srt = sorted(arrdep.items())\n",
    "arr_dep = [[i for i,j in srt],\n",
    "           [j for i,j in srt]]\n",
    "srtd_arrdep = dict(zip(arr_dep[0], arr_dep[1]))\n",
    "\n",
    "for i in range(n):\n",
    "    flag = True\n",
    "    for j in range(n):\n",
    "        if flag and arr_dep[0][i] >= arr_dep[1][j]:\n",
    "            count = count - 1\n",
    "            arr_dep[0].pop(i)\n",
    "            arr_dep[1].pop(j)\n",
    "            flag = False\n",
    "\n",
    "print(count)"
   ]
  },
  {
   "cell_type": "code",
   "execution_count": null,
   "id": "78b348c4",
   "metadata": {},
   "outputs": [],
   "source": [
    "900 1000 1100 1030 1600\n",
    "1900 1300 1130 1230 1800"
   ]
  }
 ],
 "metadata": {
  "kernelspec": {
   "display_name": "Python 3 (ipykernel)",
   "language": "python",
   "name": "python3"
  },
  "language_info": {
   "codemirror_mode": {
    "name": "ipython",
    "version": 3
   },
   "file_extension": ".py",
   "mimetype": "text/x-python",
   "name": "python",
   "nbconvert_exporter": "python",
   "pygments_lexer": "ipython3",
   "version": "3.9.7"
  }
 },
 "nbformat": 4,
 "nbformat_minor": 5
}
