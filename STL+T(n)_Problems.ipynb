{
 "cells": [
  {
   "cell_type": "code",
   "execution_count": null,
   "id": "5aa93ded",
   "metadata": {},
   "outputs": [],
   "source": []
  },
  {
   "cell_type": "code",
   "execution_count": 42,
   "id": "90254df5",
   "metadata": {},
   "outputs": [
    {
     "name": "stdout",
     "output_type": "stream",
     "text": [
      "2\n",
      "1547\n",
      "17\n",
      "45876\n",
      "30\n"
     ]
    }
   ],
   "source": [
    "def SumMeUp(num):\n",
    "    sum_s = 0\n",
    "    while num > 0:\n",
    "        rem = num % 10\n",
    "        sum_s += rem\n",
    "        num = num//10\n",
    "    return(sum_s)\n",
    "\n",
    "def main():\n",
    "    t = int(input())\n",
    "    i = 0 \n",
    "    while i < t:\n",
    "        number = int(input())\n",
    "        print(SumMeUp(number))\n",
    "        i += 1\n",
    "if __name__ == \"__main__\":\n",
    "    main()"
   ]
  },
  {
   "cell_type": "code",
   "execution_count": 38,
   "id": "49fbc87b",
   "metadata": {},
   "outputs": [
    {
     "name": "stdout",
     "output_type": "stream",
     "text": [
      "5\n",
      "1 2 -2 2 3 \n",
      "2\n"
     ]
    }
   ],
   "source": [
    "n = int(input())    \n",
    "arr = list(map(int,input().strip().split()))\n",
    "count = 0\n",
    "for i in range(len(arr)):\n",
    "    for j in range(i+1,len(arr)):\n",
    "        if arr[i] + arr[j] == 0:\n",
    "            count += 1\n",
    "            \n",
    "print(count)"
   ]
  },
  {
   "cell_type": "code",
   "execution_count": 34,
   "id": "8fdd50fb",
   "metadata": {},
   "outputs": [
    {
     "name": "stdout",
     "output_type": "stream",
     "text": [
      "9\n",
      "1 3 1 3 6 6 7 10 7\n",
      "{0, 1, 3, 6, 7}\n",
      "{1, 3, 6, 7, 10}\n",
      "10\n"
     ]
    }
   ],
   "source": [
    "def findUnique(arr, n) :\n",
    "    arr1 = []\n",
    "    \n",
    "    for i in range(n):\n",
    "        if arr[i] not in arr[i+1:]:\n",
    "            pop_val = arr.pop(i)\n",
    "            arr.insert(i,0)\n",
    "            arr1.append(pop_val)\n",
    "    \n",
    "    arr_s = set(arr)\n",
    "    arr1_s = set(arr1)\n",
    "    \n",
    "    x = next(iter(arr1_s - arr_s))\n",
    "    print(x)\n",
    "    \n",
    "    \n",
    "n = int(input())    \n",
    "arr = list(map(int,input().strip().split()))\n",
    "findUnique(arr, n)"
   ]
  },
  {
   "cell_type": "code",
   "execution_count": 60,
   "id": "6f4a2c7a",
   "metadata": {},
   "outputs": [
    {
     "name": "stdout",
     "output_type": "stream",
     "text": [
      "7\n",
      "1 2 3 4 5 6 7\n",
      "2\n",
      "[3, 4, 5, 6, 7, 1, 2]\n"
     ]
    }
   ],
   "source": [
    "def rotate(arr, n, d):\n",
    "    #Your code goes here\n",
    "    if d == 0:\n",
    "        return arr\n",
    "    for i in range(d):\n",
    "        pop_val = arr.pop(0)\n",
    "        arr.append(pop_val)\n",
    "    return arr\n",
    "\n",
    "n = int(input())\n",
    "arr = list(map(int,input().strip().split()))\n",
    "d = int(input())\n",
    "\n",
    "print(rotate(arr,n,d))"
   ]
  },
  {
   "cell_type": "code",
   "execution_count": 54,
   "id": "d9313b56",
   "metadata": {},
   "outputs": [
    {
     "name": "stdout",
     "output_type": "stream",
     "text": [
      "3\n",
      "1 2 3 4 5 6\n",
      "[1, 2, 3, 4, 6, 5]\n"
     ]
    }
   ],
   "source": [
    "def reverseArray(arr, m):\n",
    "    rev = arr[m+1:][::-1]\n",
    "    fnl = arr[:m+1]\n",
    "    fnl.extend(rev)\n",
    "    return fnl\n",
    "    \n",
    "m = int(input())\n",
    "arr = list(map(int,input().strip().split()))\n",
    "print(reverseArray(arr, m))"
   ]
  },
  {
   "cell_type": "markdown",
   "id": "5bc8aca1",
   "metadata": {},
   "source": [
    "## Triplet sum\n",
    "\n",
    "You have been given a random integer array/list(ARR) and a number X. Find and return the triplet(s) in the array/list which sum to X.    \n",
    "###### Note :     \n",
    "Given array/list can contain duplicate elements.    \n",
    "##### Input format :\n",
    "The first line contains an Integer 't' which denotes the number of test cases or queries to be run. Then the test cases follow.        \n",
    "\n",
    "First line of each test case or query contains an integer 'N' representing the size of the first array/list.     \n",
    "\n",
    "Second line contains 'N' single space separated integers representing the elements in the array/list.     \n",
    "\n",
    "Third line contains an integer 'X'.    \n",
    "##### Output format :\n",
    "For each test case, print the total number of triplets present in the array/list.    \n",
    "\n",
    "Output for every test case will be printed in a separate line.     \n",
    "###### Constraints : \n",
    "1 <= t <= 10^2    \n",
    "0 <= N <= 10^3    \n",
    "0 <= X <= 10^9   \n",
    "\n",
    "Time Limit: 1 sec     \n",
    "###### Sample Input 1:\n",
    "1   \n",
    "\n",
    "7    \n",
    "1 2 3 4 5 6 7     \n",
    "12    \n",
    "###### Sample Output 1:\n",
    "5     \n",
    "###### Sample Input 2:\n",
    "2 \n",
    "\n",
    "7   \n",
    "1 2 3 4 5 6 7   \n",
    "19   \n",
    "9    \n",
    "2 -5 8 -6 0 5 10 11 -3    \n",
    "10    \n",
    "###### Sample Output 2:\n",
    "0     \n",
    "\n",
    "5   \n",
    "\n",
    "\n",
    "##### Explanation for Input 2:\n",
    "Since there doesn't exist any triplet with sum equal to 19 for the first query, we print 0.    \n",
    "\n",
    "For the second query, we have 5 triplets in total that sum up to 10. They are, (2, 8, 0), (2, 11, -3), (-5, 5, 10), (8, 5, -3) and (-6, 5, 11)     "
   ]
  },
  {
   "cell_type": "code",
   "execution_count": 47,
   "id": "a7bfe1e0",
   "metadata": {},
   "outputs": [
    {
     "name": "stdout",
     "output_type": "stream",
     "text": [
      "6\n",
      "6 1 6 5 3 2\n",
      "6\n",
      "1\n"
     ]
    }
   ],
   "source": [
    "def tripletSum(arr, n, num) :\n",
    "    count = 0\n",
    "    for i in range(n):\n",
    "        for j in range(i+1,n):\n",
    "            for k in range(j+1,n):\n",
    "                if num == arr[i] + arr[j] + arr[k]:\n",
    "                    count += 1\n",
    "    \n",
    "    return count\n",
    "\n",
    "n = int(input())\n",
    "arr = list(map(int,input().strip().split()))\n",
    "num = int(input())\n",
    "\n",
    "print(tripletSum(arr, n, num))"
   ]
  },
  {
   "cell_type": "markdown",
   "id": "63cf528e",
   "metadata": {},
   "source": [
    "## Duplicate in array\n",
    "\n",
    "You have been given an integer array/list(ARR) of size N which contains numbers from 0 to (N - 2). Each number is present at least once. That is, if N = 5, the array/list constitutes values ranging from 0 to 3, and among these, there is a single integer value that is present twice. You need to find and return that duplicate number present in the array.     \n",
    "\n",
    "###### Note :\n",
    "Duplicate number is always present in the given array/list.\n",
    "##### Input format :\n",
    "The first line contains an Integer 't' which denotes the number of test cases or queries to be run. Then the test cases follow.      \n",
    "\n",
    "First line of each test case or query contains an integer 'N' representing the size of the array/list.     \n",
    "\n",
    "Second line contains 'N' single space separated integers representing the elements in the array/list.     \n",
    "##### Output Format :\n",
    "For each test case, print the duplicate element in the array/list.     \n",
    "\n",
    "Output for every test case will be printed in a separate line.    \n",
    "###### Constraints :\n",
    "1 <= t <= 10^2    \n",
    "0 <= N <= 10^6    \n",
    "\n",
    "Time Limit: 1 sec    \n",
    "###### Sample Input 1:\n",
    "1    \n",
    "9    \n",
    "0 7 2 5 4 7 1 3 6     \n",
    "###### Sample Output 1:\n",
    "7\n",
    "###### Sample Input 2:\n",
    "2    \n",
    "5    \n",
    "0 2 1 3 1    \n",
    "7    \n",
    "0 3 1 5 4 3 2    \n",
    "###### Sample Output 2:\n",
    "1\n",
    "3"
   ]
  },
  {
   "cell_type": "code",
   "execution_count": null,
   "id": "6ddd1083",
   "metadata": {},
   "outputs": [],
   "source": [
    "def findDuplicate(arr, n) :\n",
    "    s = set()\n",
    "    for i in range(n):\n",
    "        if arr[i] in s:\n",
    "            return arr[i]\n",
    "        s.add(arr[i])\n",
    "    return -1"
   ]
  },
  {
   "cell_type": "code",
   "execution_count": 14,
   "id": "0d3cf21e",
   "metadata": {},
   "outputs": [
    {
     "name": "stdout",
     "output_type": "stream",
     "text": [
      "2\n",
      "2 3\n",
      "1 2\n",
      "9\n",
      "3 2\n",
      "1 -2 1\n",
      "2\n"
     ]
    }
   ],
   "source": [
    "t = int(input())\n",
    "m = 0\n",
    "while m < t:\n",
    "    \n",
    "    n,k = map(int,input().split())\n",
    "    lst = list(map(int,input().split()))\n",
    "    \n",
    "    s = k*lst\n",
    "    sum_s = []\n",
    "    \n",
    "    for i in range(len(s)):\n",
    "        for j in range(i+1,len(s)+1):\n",
    "            nsum = 0\n",
    "            for x in s[i:j]:\n",
    "                nsum = nsum + x\n",
    "            sum_s.append(nsum)\n",
    "            \n",
    "    print(max(sum_s))\n",
    "    \n",
    "    m = m + 1"
   ]
  },
  {
   "cell_type": "markdown",
   "id": "8800acd5",
   "metadata": {},
   "source": [
    "### Hussain Set Problem\n"
   ]
  },
  {
   "cell_type": "code",
   "execution_count": null,
   "id": "8d9479f0",
   "metadata": {},
   "outputs": [],
   "source": [
    "def compare_higher(a,b):\n",
    "    if a>b:\n",
    "        return a\n",
    "    else:\n",
    "        return b\n",
    "\n",
    "\n",
    "def main():\n",
    "    n,q = map(int,input().strip().split())\n",
    "    seq1 = list(map(int,input().strip().split()))\n",
    "    seq2 = []\n",
    "    out_seq = []\n",
    "    seq1.sort()\n",
    "\n",
    "    pop_val = seq1.pop()\n",
    "    if pop_val//2 > 0:\n",
    "        seq2.append(pop_val//2)\n",
    "    out_seq.append(pop_val)\n",
    "\n",
    "    while not (len(seq1)==0 and len(seq2)==0):\n",
    "        if len(seq1)!=0 and len(seq2)!=0:\n",
    "            ret_val = compare_higher(seq1[-1],seq2[-1])\n",
    "        elif len(seq1)==0:\n",
    "            ret_val = seq2[-1]\n",
    "        elif len(seq2)==0:\n",
    "            ret_val = seq1[-1]\n",
    "            \n",
    "        if len(seq1)!=0 and ret_val == seq1[-1]:\n",
    "            seq1.pop()\n",
    "        elif len(seq2)!=0 and ret_val == seq2[-1]:\n",
    "            seq2.pop()\n",
    "        \n",
    "        if ret_val//2 > 0:\n",
    "            seq2.insert(0,ret_val//2)\n",
    "            \n",
    "        out_seq.append(ret_val)\n",
    "        \n",
    "        \n",
    "    i = 0\n",
    "    while i<q:\n",
    "        query = int(input())\n",
    "        print(out_seq[query-1])\n",
    "        i+=1\n",
    "        \n",
    "if __name__ == \"__main__\":\n",
    "    main()"
   ]
  }
 ],
 "metadata": {
  "kernelspec": {
   "display_name": "Python 3 (ipykernel)",
   "language": "python",
   "name": "python3"
  },
  "language_info": {
   "codemirror_mode": {
    "name": "ipython",
    "version": 3
   },
   "file_extension": ".py",
   "mimetype": "text/x-python",
   "name": "python",
   "nbconvert_exporter": "python",
   "pygments_lexer": "ipython3",
   "version": "3.9.7"
  }
 },
 "nbformat": 4,
 "nbformat_minor": 5
}
