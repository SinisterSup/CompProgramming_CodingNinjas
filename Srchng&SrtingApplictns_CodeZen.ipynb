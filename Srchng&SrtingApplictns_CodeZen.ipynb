{
 "cells": [
  {
   "cell_type": "markdown",
   "id": "6ae7e645",
   "metadata": {},
   "source": [
    "# Assignment Qs"
   ]
  },
  {
   "cell_type": "markdown",
   "id": "e2d475f0",
   "metadata": {},
   "source": [
    "## 1.Murder\n",
    "\n",
    "Once detective Saikat was solving a murder case. While going to the crime scene he took the stairs and saw that a number is written on every stair. He found it suspicious and decides to remember all the numbers that he has seen till now. While remembering the numbers he found that he can find some pattern in those numbers. So he decides that for each number on the stairs he will note down the sum of all the numbers previously seen on the stairs which are smaller than the present number. Calculate the sum of all the numbers written on his notes diary.      \n",
    "Answer may not fit in integer . You have to take long.      \n",
    "\n",
    "#### Input       \n",
    "First line gives T, number of test cases.     \n",
    "2T lines follow.    \n",
    "First line gives you the number of stairs N    \n",
    "Next line gives you N numbers written on the stairs.      \n",
    "#### Output    \n",
    "For each test case output one line giving the final sum for each test case.    \n",
    "###### Constraints\n",
    "T<=10    \n",
    "   \n",
    "1<=N<=10^5    \n",
    "    \n",
    "All numbers will be between 0 and 10^6.    \n",
    "##### Sample Input:\n",
    "1   \n",
    "\n",
    "5     \n",
    "\n",
    "1 5 3 6 4      \n",
    "##### Sample Output:\n",
    "15     \n",
    "\n",
    "###### Explanation:\n",
    "For the first number, the contribution to the sum is 0.     \n",
    "For the second number, the contribution to the sum is 1.    \n",
    "For the third number, the contribution to the sum is 1.     \n",
    "For the fourth number, the contribution to the sum is 9 (1+5+3).    \n",
    "For the fifth number, the contribution to the sum is 4 (1+3).    \n",
    "Hence the sum is 15 (0+1+1+9+4).    "
   ]
  },
  {
   "cell_type": "code",
   "execution_count": 5,
   "id": "f1247bbd",
   "metadata": {},
   "outputs": [
    {
     "name": "stdout",
     "output_type": "stream",
     "text": [
      "1\n",
      "5\n",
      "1 5 3 6 4\n",
      "15\n"
     ]
    }
   ],
   "source": [
    "def murder(arr,n):\n",
    "    notes = []\n",
    "    for i in range(n):\n",
    "        suml = 0 \n",
    "        if i == 0:\n",
    "            continue\n",
    "        else:\n",
    "            for j in range(i):\n",
    "                if arr[i] > arr[j]:\n",
    "                    suml = suml + arr[j]\n",
    "        notes.append(suml)\n",
    "    \n",
    "    return sum(notes)\n",
    "\n",
    "\n",
    "\n",
    "def main():\n",
    "    t = int(input())\n",
    "    while t>0:\n",
    "        n = int(input())\n",
    "        arr = list(map(int, input().strip().split()))\n",
    "        \n",
    "        print(murder(arr,n))\n",
    "        t -= 1\n",
    "        \n",
    "if __name__ == \"__main__\":\n",
    "    main()"
   ]
  },
  {
   "cell_type": "code",
   "execution_count": 15,
   "id": "d33f3270",
   "metadata": {},
   "outputs": [
    {
     "name": "stdout",
     "output_type": "stream",
     "text": [
      "1\n",
      "5\n",
      "1 5 3 6 4\n",
      "15\n"
     ]
    }
   ],
   "source": [
    "def murderd(arr,n):\n",
    "    notes = []\n",
    "    for i in range(n):\n",
    "        sum_l = list(filter(lambda x: x<arr[i], arr[:i]))\n",
    "        sumd = sum(sum_l)\n",
    "        notes.append(sumd)\n",
    "    \n",
    "    return sum(notes)\n",
    "\n",
    "\n",
    "def main():\n",
    "    t = int(input())\n",
    "    while t>0:\n",
    "        n = int(input())\n",
    "        arr = list(map(int, input().strip().split()))\n",
    "        \n",
    "        print(murderd(arr,n))\n",
    "        t -= 1\n",
    "        \n",
    "if __name__ == \"__main__\":\n",
    "    main()"
   ]
  },
  {
   "cell_type": "markdown",
   "id": "d38ad6cf",
   "metadata": {},
   "source": [
    "## 2. Distribute Candies\n",
    "\n",
    "Shaky has N (1<=N<=50000) candy boxes each of them contains a non-zero number of candies (between 1 and 1000000000). Shaky want to distibute these candies among his K (1<=K<=1000000000) IIIT-Delhi students. He want to distibute them in a way such that:     \n",
    " All students get equal number of candies.       \n",
    " All the candies which a student get must be from a single box only.        \n",
    "As he want to make all of them happy so he want to give as many candies as possible. Help Shaky in finding out what is the maximum number of candies which a student can get.     \n",
    "#### Input    \n",
    "First line contains 1<=T<=20 the number of test cases. Then T test cases follow. First line of each test case contains N and K. Next line contains N integers, ith of which is the number of candies in ith box.     \n",
    "#### Output      \n",
    "For each test case print the required answer in a seperate line.    \n",
    "##### Sample Input:    \n",
    "2    \n",
    "\n",
    "3 2     \n",
    "3 1 4     \n",
    "4 1    \n",
    "3 2 3 9    \n",
    "##### Sample Output:\n",
    "3    \n",
    "\n",
    "9    "
   ]
  },
  {
   "cell_type": "markdown",
   "id": "99debdf3",
   "metadata": {},
   "source": [
    "## 3. Momos Market\n",
    "\n",
    "Shreya loves to eat momos. Her mother gives her money to buy vegetables but she manages to save some money out of it daily. After buying vegetables, she goes to \"Momos Market\", where there are ‘n’ number of shops of momos. Each of the shops of momos has a rate per momo. She visits the market and starts buying momos (one from each shop) starting from the first shop. She will visit the market for ‘q’ days. You have to tell that how many momos she can buy each day if she starts buying from the first shop daily. She cannot use the remaining money of one day on some other day. But she will save them for other expenses in the future, so, you also need to tell the sum of money left with her at the end of each day.          \n",
    "\n",
    "#### Input Format:     \n",
    "First line will have an integer ‘n’ denoting the number of shops in market.    \n",
    "Next line will have ‘n’ numbers denoting the price of one momo of each shop.    \n",
    "Next line will have an integer ‘q’ denoting the number of days she will visit the market.    \n",
    "Next ‘q’ lines will have one integer ‘X’ denoting the money she saved after buying vegetables.    \n",
    "###### Constraints:    \n",
    "1 <= n <= 10^5    \n",
    "1 <= q <= 10^5    \n",
    "1 <= X <= 10^9   \n",
    "#### Output:    \n",
    "There will be ‘q’ lines of output each having two space separated integers denoting number of momos she can buy and amount of money she saved each day.     \n",
    "##### Sample Input:     \n",
    "4   \n",
    "\n",
    "2 1 6 3    \n",
    "1  \n",
    "\n",
    "11    \n",
    "##### Sample Output:\n",
    "3 2      \n",
    "###### Explanation:       \n",
    "Shreya visits the \"Momos Market\" for only one day. She has 11 INR to spend. She can buy 3 momos, each from the first 3 shops. She would 9 INR (2 + 1 + 6) for the same and hence, she will save 2 INR.     "
   ]
  },
  {
   "cell_type": "markdown",
   "id": "f46fe470",
   "metadata": {},
   "source": [
    "## 4. Taj Mahal Entry\n",
    "\n",
    "Taj Mahal is one of the seven wonders of the world. Aahad loves to travel places and wants to visit Taj Mahal. He visited Agra to view Taj Mahal. There is a ticketing system at Taj Mahal. There are total ‘n’ windows which provide the tickets to get entry into Taj Mahal. There are ‘Ai’ people already present at each window to get the tickets. Each window gives ticket to one person in one minute. Initially, Aahad stands in front of the first window. After each minute, if he didn’t get the ticket, he moves on to the next window to get the ticket. If he is at window 1, he will move to 2. If at 2nd, he will move to 3rd. If he is at last window, he will move to 1st again and so on. Find the window number at which he will get the ticket.     \n",
    "\n",
    "#### Input Format:\n",
    "First line contains a single integer ‘n’ denoting the no. of windows.    \n",
    "Next line contains ‘n’ space separated integers denoting the no. of people already standing in front of the ith window. (1 <= i <= n)    \n",
    "#### Output Format:     \n",
    "Print a single integer denoting the window number that Aahad will get ticket from.    \n",
    "###### Constraints:   \n",
    "1 <= n <= 10^5   \n",
    "1 <= Ai <= 10^9    \n",
    "##### Sample Input:    \n",
    "4   \n",
    "\n",
    "2 3 2 0     \n",
    "##### Sample Output:    \n",
    "3    \n",
    "###### Explanation:\n",
    "Aahad at Window 1: [2, 3, 2, 0]     \n",
    "Aahad at Window 2: [1, 2, 1, 0]     \n",
    "Aahad at Window 3: [0, 1, 0, 0]     \n",
    "So, when Aahad is at window 3, he got zero people before him. Hence, he will get the ticket at window 3.    "
   ]
  },
  {
   "cell_type": "code",
   "execution_count": 11,
   "id": "04159395",
   "metadata": {
    "scrolled": false
   },
   "outputs": [
    {
     "name": "stdout",
     "output_type": "stream",
     "text": [
      "10\n",
      "3 3 3 5 6 9 3 1 7 3\n",
      "7\n"
     ]
    }
   ],
   "source": [
    "def ticket_counter(arr):\n",
    "    return list(map(lambda x:x-1 if x!=0 else 0, arr))\n",
    "    \n",
    "def main():\n",
    "    n = int(input())\n",
    "    Ai_arr = list(map(int, input().strip().split()))\n",
    "    h = 0\n",
    "    while True:\n",
    "        try:\n",
    "            if Ai_arr[h] == 0:\n",
    "                h += 1\n",
    "                break\n",
    "            else:\n",
    "                h += 1\n",
    "        except IndexError:\n",
    "            h = 0\n",
    "            if Ai_arr[h] == 0:\n",
    "                h += 1\n",
    "                break\n",
    "        Ai_arr = ticket_counter(Ai_arr)\n",
    "        \n",
    "    print(h)\n",
    "\n",
    "    \n",
    "if __name__ == \"__main__\":\n",
    "    main()"
   ]
  },
  {
   "cell_type": "code",
   "execution_count": 6,
   "id": "ba033ba4",
   "metadata": {},
   "outputs": [
    {
     "name": "stdout",
     "output_type": "stream",
     "text": [
      "4\n",
      "2 3 2 0\n",
      "3\n"
     ]
    }
   ],
   "source": [
    "import numpy as np\n",
    "\n",
    "\n",
    "def ticket_counter(arr):\n",
    "    np_list = np.array(list(map(lambda x:x-1 if x!=0 else 0, arr)))\n",
    "    return np_list.tolist()\n",
    "    \n",
    "def main():\n",
    "    n = int(input())\n",
    "    Ai_arr = list(map(int, input().strip().split()))\n",
    "    h = 0\n",
    "    while True:\n",
    "        try:\n",
    "            if Ai_arr[h] == 0:\n",
    "                h += 1\n",
    "                break\n",
    "            else:\n",
    "                h += 1\n",
    "        except IndexError:\n",
    "            h = 0\n",
    "            if Ai_arr[h] == 0:\n",
    "                h += 1\n",
    "                break\n",
    "        Ai_arr = ticket_counter(Ai_arr)\n",
    "        \n",
    "    print(h)\n",
    "\n",
    "    \n",
    "if __name__ == \"__main__\":\n",
    "    main()"
   ]
  },
  {
   "cell_type": "markdown",
   "id": "89f97497",
   "metadata": {},
   "source": [
    "## Aggressive Cows Problem\n",
    "\n",
    "Farmer John has built a new long barn, with N (2 <= N <= 100,000) stalls. The stalls are located along a straight line at positions x1,...,xN (0 <= xi <= 1,000,000,000).     \n",
    "His C (2 <= C <= N) cows don't like this barn layout and become aggressive towards each other once put into a stall. To prevent the cows from hurting each other, FJ wants to assign the cows to the stalls, such that the minimum distance between any two of them is as large as possible. What is the largest minimum distance?    \n",
    "\n",
    "#### Input\n",
    "t – the number of test cases, then t test cases follows.           \n",
    "Line 1: Two space-separated integers: N and C           \n",
    "Lines 2..N+1: Line i+1 contains an integer stall location, xi              \n",
    "#### Output       \n",
    "For each test case output one integer: the largest minimum distance. \n",
    "\n",
    "##### Sample Input :\n",
    "1    \n",
    "\n",
    "5 3    \n",
    "1 2 8 4 9     \n",
    "##### Sample Output:\n",
    "3      \n",
    "###### Output details:    \n",
    "FJ can put his 3 cows in the stalls at positions 1, 4 and 8, \n",
    "resulting in a minimum distance of 3.       \n"
   ]
  },
  {
   "cell_type": "code",
   "execution_count": 4,
   "id": "33fb2ddb",
   "metadata": {},
   "outputs": [
    {
     "name": "stdout",
     "output_type": "stream",
     "text": [
      "1\n",
      "5 3 \n",
      "1 4 2 9 8\n",
      "3\n"
     ]
    }
   ],
   "source": [
    "def canCowsPlaced(posarr, n, c, d):\n",
    "    count = 1\n",
    "    last_pos = posarr[0]\n",
    "    \n",
    "    for i in range(n):\n",
    "        if (posarr[i] - last_pos) >= d:\n",
    "            count += 1\n",
    "            last_pos = posarr[i]\n",
    "        if count == c:\n",
    "            return True\n",
    "    return False\n",
    "\n",
    "\n",
    "def main():\n",
    "    t = int(input())\n",
    "    while (t > 0):\n",
    "        n,c = map(int,input().strip().split())\n",
    "        pos_arr = list(map(int,input().strip().split()))\n",
    "        pos_arr.sort()\n",
    "\n",
    "        start = 0\n",
    "        end = pos_arr[-1] - pos_arr[0]\n",
    "\n",
    "        ans = 0\n",
    "        while start <= end:\n",
    "            mid = (start+end)//2\n",
    "            canPlace = canCowsPlaced(pos_arr, n, c, mid)\n",
    "\n",
    "            if canPlace:\n",
    "                ans = mid\n",
    "                start = mid + 1\n",
    "            else:\n",
    "                end = mid - 1\n",
    "\n",
    "        print(ans)\n",
    "        t = t - 1\n",
    "\n",
    "if __name__ == \"__main__\":\n",
    "    main()\n"
   ]
  }
 ],
 "metadata": {
  "kernelspec": {
   "display_name": "Python 3 (ipykernel)",
   "language": "python",
   "name": "python3"
  },
  "language_info": {
   "codemirror_mode": {
    "name": "ipython",
    "version": 3
   },
   "file_extension": ".py",
   "mimetype": "text/x-python",
   "name": "python",
   "nbconvert_exporter": "python",
   "pygments_lexer": "ipython3",
   "version": "3.9.12"
  }
 },
 "nbformat": 4,
 "nbformat_minor": 5
}
