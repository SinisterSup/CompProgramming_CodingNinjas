{
 "cells": [
  {
   "cell_type": "markdown",
   "id": "74b0d168",
   "metadata": {},
   "source": [
    "## Q2.Tell the positions\n",
    "\n",
    "In a class there are ‘n’ number of students. They have three different subjects: Data Structures, Algorithm Design & Analysis and Operating Systems. Marks for each subject of all the students are provided to you. You have to tell the position of each student in the class. Print the names of each student according to their position in class. Tie is broken on the basis of their roll numbers. Between two students having same marks, the one with less roll number will have higher rank. The input is provided in order of roll number.    \n",
    "\n",
    "#### Input Format:\n",
    "First line will have a single integer ‘n’, denoting the number of students in the class.   \n",
    "Next ‘n’ lines each will have one string denoting the name of student and three space separated integers m1, m2, m3 denoting the marks in three subjects.    \n",
    "#### Output Format:\n",
    "Print ‘n’ lines having two values: First, the position of student in the class and second his name.    \n",
    "###### Constraints:\n",
    "1 <= n <= 10^5    \n",
    "0 <= m1, m2, m3 <= 100     \n",
    "###### Sample Input:\n",
    "3      \n",
    "\n",
    "Mohit 94 85 97    \n",
    "Shubham 93 91 94    \n",
    "Rishabh 95 81 99   \n",
    "###### Sample Output:\n",
    "1 Shubham    \n",
    "2 Mohit    \n",
    "3 Rishabh    "
   ]
  },
  {
   "cell_type": "code",
   "execution_count": 80,
   "id": "614c7491",
   "metadata": {},
   "outputs": [
    {
     "name": "stdout",
     "output_type": "stream",
     "text": [
      "3\n",
      "Mohit 94 85 97\n",
      "Mohit 94 85 87\n",
      "Shubham 93 91 94\n",
      "['Mohit', 'Mohit', 'Shubham']\n",
      "[276, 266, 278]\n",
      "Mohit 276\n",
      "Mohit 266\n",
      "Shubham 278\n",
      "[('Shubham', 278), ('Mohit', 276), ('Mohit', 266)]\n",
      "1 Shubham\n",
      "2 Mohit\n",
      "3 Mohit\n"
     ]
    }
   ],
   "source": [
    "def main():\n",
    "    n = int(input())\n",
    "    i = 0\n",
    "    stud_list = []\n",
    "    marks_list = []\n",
    "    while i<n:\n",
    "        stud = input().strip().split()\n",
    "        marks_sum = sum([int(i) for i in stud[1:]])\n",
    "        stud_name = stud[0]\n",
    "        marks_list.append(marks_sum)\n",
    "        stud_list.append(stud_name)\n",
    "        i += 1\n",
    "\n",
    "    rank = list(zip(stud_list, marks_list))\n",
    "\n",
    "    srt_rank = sorted(rank, key = lambda x: x[1], reverse = True)\n",
    "\n",
    "    for i, (k,v) in enumerate(srt_rank,1):\n",
    "        print(i, k)\n",
    "\n",
    "        \n",
    "if __name__ == '__main__' :\n",
    "    main()\n",
    "        "
   ]
  },
  {
   "cell_type": "markdown",
   "id": "f806e7db",
   "metadata": {},
   "source": [
    "## Q1. Warm Reception\n",
    "\n",
    "There is only one beauty parlour in the town CodingNinjasLand. The receptionist at the beauty parlor is flooded with appointment requests because the “Hakori” festival is round the corner and everyone wants to look good on it.     \n",
    "\n",
    "She needs your help. The problem is they don’t have chairs in reception. They are ordering chairs from NinjasKart. They don’t want to order more than required. You have to tell the minimum number of chairs required such that none of the customers has to stand.    \n",
    "\n",
    "#### Input Format :    \n",
    "First line contains the number of customers that will come. Second line contains N space-separated integers which represent the arrival timings of the customer. Third line contains N space-separated integers which represent the departure timings of the customer. Arrival and departure timings are given in 24-hour clock.    \n",
    "###### Constraints:    \n",
    "1<= N <= 100    \n",
    "Arrival and departure timings lie in the range [0000 to 2359]   \n",
    "Time Limit: 1 second     \n",
    "#### Output Format :    \n",
    "You have to print the minimum number of chairs required such that no customer has to wait standing. \n",
    "##### Sample Test Cases:\n",
    "###### Sample Input 1 :      \n",
    "5  \n",
    "\n",
    "900 1000 1100 1030 1600                           \n",
    "1900 1300 1130 1130 1800                  \n",
    "###### Sample Output 1:          \n",
    "4   \n",
    "##### Explanation:\n",
    "4 because at 1100 hours, we will have maximum number of customers at the shop, throughout the day. And that maximum number is 4. "
   ]
  },
  {
   "cell_type": "code",
   "execution_count": 95,
   "id": "2334e7b4",
   "metadata": {},
   "outputs": [
    {
     "name": "stdout",
     "output_type": "stream",
     "text": [
      "5\n",
      "900 1000 1100 1030 1600\n",
      "1900 1300 1130 1130 1800\n",
      "[900, 1000, 1030, 1100, 1600]\n",
      "[1130, 1130, 1300, 1800, 1900]\n",
      "4\n"
     ]
    }
   ],
   "source": [
    "n = int(input())\n",
    "a = [int(i) for i in input().strip().split()]\n",
    "d = [int(i) for i in input().strip().split()]\n",
    "\n",
    "a.sort()\n",
    "d.sort()\n",
    "print(a)\n",
    "print(d)\n",
    "\n",
    "count = 0\n",
    "j = 0\n",
    "for i in range(n):\n",
    "    if a[i] < d[j]:\n",
    "        count = count + 1\n",
    "        continue\n",
    "    j+=1\n",
    "print(count)"
   ]
  }
 ],
 "metadata": {
  "kernelspec": {
   "display_name": "Python 3 (ipykernel)",
   "language": "python",
   "name": "python3"
  },
  "language_info": {
   "codemirror_mode": {
    "name": "ipython",
    "version": 3
   },
   "file_extension": ".py",
   "mimetype": "text/x-python",
   "name": "python",
   "nbconvert_exporter": "python",
   "pygments_lexer": "ipython3",
   "version": "3.9.7"
  }
 },
 "nbformat": 4,
 "nbformat_minor": 5
}
